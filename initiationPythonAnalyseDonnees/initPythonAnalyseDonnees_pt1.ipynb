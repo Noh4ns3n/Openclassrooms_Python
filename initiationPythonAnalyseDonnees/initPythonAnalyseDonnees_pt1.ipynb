{
 "cells": [
  {
   "cell_type": "code",
   "execution_count": 1,
   "id": "3d98407f",
   "metadata": {},
   "outputs": [
    {
     "name": "stdout",
     "output_type": "stream",
     "text": [
      "Hey\n"
     ]
    }
   ],
   "source": [
    "print('Hey');"
   ]
  },
  {
   "cell_type": "markdown",
   "id": "c4115511",
   "metadata": {},
   "source": [
    "# Mon premier titre \n",
    "## Mon deuxième titre\n",
    "Je sais écrire en **gras** et en *italique*\n",
    "\n",
    "Maintenant pour créer des blocs colorés, taper ceci dans une cellule Markdown :\n"
   ]
  },
  {
   "cell_type": "markdown",
   "id": "768aae17",
   "metadata": {},
   "source": [
    "<div class=\"alert alert-block alert-danger\"> \n",
    "    <b> Astuce : voici une cellule d'exemple (grâce à alert-danger)</b>   \n",
    "</div>"
   ]
  },
  {
   "cell_type": "markdown",
   "id": "f8ac586a",
   "metadata": {},
   "source": [
    "<div class=\"alert alert-block alert-info\"> \n",
    "    <b>> Astuce : voici une cellule de notes (grâce à alert-info)</b>   \n",
    "</div>"
   ]
  },
  {
   "cell_type": "markdown",
   "id": "2d5db1a1",
   "metadata": {},
   "source": [
    "<div class=\"alert alert-block alert-warning\"> \n",
    "    <b> Astuce : voici une cellule d'exemple (grâce à alert-warning)</b>   \n",
    "</div>"
   ]
  },
  {
   "cell_type": "markdown",
   "id": "4b1c8615",
   "metadata": {},
   "source": [
    "<div class=\"alert alert-block alert-danger\"> \n",
    "    <b> Astuce : voici une cellule d'avertissement (grâce à alert-danger)</b>   \n",
    "</div>"
   ]
  },
  {
   "cell_type": "markdown",
   "id": "3f2a7c4d",
   "metadata": {},
   "source": [
    "<div class=\"alert alert-block alert-success\"> \n",
    "    <b> Astuce : voici une cellule de succès (grâce à alert-success)</b>   \n",
    "</div>"
   ]
  },
  {
   "attachments": {},
   "cell_type": "markdown",
   "id": "446d0891",
   "metadata": {},
   "source": [
    "<div class=\"alert alert-info\" style=\"color:black\">\n",
    "\n",
    "## Black color style\n",
    "\n",
    "Some text here\n",
    "</div>"
   ]
  },
  {
   "cell_type": "markdown",
   "id": "9ae6b3a9",
   "metadata": {},
   "source": [
    "Pour indenter du texte :"
   ]
  },
  {
   "cell_type": "markdown",
   "id": "161f0d86",
   "metadata": {},
   "source": [
    "> Texte indenté une fois\n",
    ">> Texte indenté deux fois\n",
    ">>> Texte indenté trois fois"
   ]
  },
  {
   "cell_type": "markdown",
   "id": "2d336d34",
   "metadata": {},
   "source": [
    "> Texte indenté une fois\n",
    ">> Texte indenté deux fois\n",
    ">>> Texte indenté trois fois"
   ]
  },
  {
   "cell_type": "markdown",
   "id": "8dc49506",
   "metadata": {},
   "source": [
    "Pour faire des listes à puces :"
   ]
  },
  {
   "cell_type": "markdown",
   "id": "40ff7e75",
   "metadata": {},
   "source": [
    "-  bullet1\n",
    "    -  bullet 2\n",
    "        -  bullet 3"
   ]
  },
  {
   "cell_type": "markdown",
   "id": "c65ad4bd",
   "metadata": {},
   "source": [
    "-  bullet1\n",
    "    -  bullet 2\n",
    "        -  bullet 3"
   ]
  },
  {
   "cell_type": "markdown",
   "id": "ee3bf564",
   "metadata": {},
   "source": [
    "Pour écrire en police monospace :"
   ]
  },
  {
   "cell_type": "markdown",
   "id": "5464749e",
   "metadata": {},
   "source": [
    "`monospace font`"
   ]
  },
  {
   "cell_type": "markdown",
   "id": "c2743c10",
   "metadata": {},
   "source": [
    "`monospace font`"
   ]
  },
  {
   "cell_type": "markdown",
   "id": "dbe0103a",
   "metadata": {},
   "source": [
    "Pour illustrer du code :"
   ]
  },
  {
   "cell_type": "markdown",
   "id": "c0e65041",
   "metadata": {},
   "source": [
    "```Python\n",
    "str = mastring;\n",
    "print(str);\n",
    "```"
   ]
  },
  {
   "cell_type": "markdown",
   "id": "03944c54",
   "metadata": {},
   "source": [
    "```Python\n",
    "str = mastring;\n",
    "print(str);\n",
    "```"
   ]
  },
  {
   "cell_type": "code",
   "execution_count": 13,
   "id": "163ee121",
   "metadata": {},
   "outputs": [
    {
     "name": "stdout",
     "output_type": "stream",
     "text": [
      "Le solde de votre compte étant de 10000 €\n",
      "Vous avez 75.0 € d'intérêts sur l'année\n"
     ]
    }
   ],
   "source": [
    "compteEpargne = 10000;\n",
    "taux = 0.75;\n",
    "\n",
    "interets = compteEpargne * (taux/100);\n",
    "\n",
    "print(\"Le solde de votre compte étant de\",compteEpargne,\"€\\nVous avez\",interets,\"€ d'intérêts sur l'année\");"
   ]
  },
  {
   "cell_type": "code",
   "execution_count": null,
   "id": "673dd835",
   "metadata": {},
   "outputs": [],
   "source": []
  }
 ],
 "metadata": {
  "kernelspec": {
   "display_name": "Python 3 (ipykernel)",
   "language": "python",
   "name": "python3"
  },
  "language_info": {
   "codemirror_mode": {
    "name": "ipython",
    "version": 3
   },
   "file_extension": ".py",
   "mimetype": "text/x-python",
   "name": "python",
   "nbconvert_exporter": "python",
   "pygments_lexer": "ipython3",
   "version": "3.10.9"
  }
 },
 "nbformat": 4,
 "nbformat_minor": 5
}
