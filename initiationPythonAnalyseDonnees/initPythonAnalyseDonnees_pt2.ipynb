{
 "cells": [
  {
   "cell_type": "markdown",
   "id": "5dcb1362",
   "metadata": {},
   "source": [
    "Python associe lui même le bon type à chaque variable. \n",
    "Ainsi, en déclarant :\n",
    "``` Python\n",
    "longueur = 10;\n",
    "```\n",
    "10 étant un entier, longueur est automatiquement du type 'int'<br>\n",
    " <br>\n",
    " <br>\n",
    "Et en déclarant :\n",
    "``` Python\n",
    "largeur = 5.76;\n",
    "```\n",
    "5.76 étant un nombre décimal, largeur est automatiquement du type 'float'"
   ]
  },
  {
   "cell_type": "markdown",
   "id": "b3628211",
   "metadata": {},
   "source": [
    "___"
   ]
  },
  {
   "cell_type": "raw",
   "id": "73556d5d",
   "metadata": {},
   "source": [
    "Il est possible de mixer les types de variables lors d'opérations. \n",
    "Dans ce cas c'est le type le plus complexe qui sera conservé pour définir le type de la variable résultante.\n",
    "\n",
    "Par exemple, additionner un int et un float (ex : 10 + 5.76) fournira toujours un résultat de type float.\n",
    "\n",
    "Ex :\n",
    "```Python\n",
    "    longueur = 10;\n",
    "    largeur = 5.76;\n",
    "    \n",
    "    surface = longueur*largeur;\n",
    "    print(surface);\n",
    "```\n",
    "Surface est bien de type float."
   ]
  },
  {
   "cell_type": "code",
   "execution_count": 20,
   "id": "b2d9e702",
   "metadata": {},
   "outputs": [
    {
     "name": "stdout",
     "output_type": "stream",
     "text": [
      "La surface est de 57.599999999999994 cm²\n"
     ]
    }
   ],
   "source": [
    "longueur = 10;\n",
    "largeur = 5.76;\n",
    "    \n",
    "surface = longueur*largeur;\n",
    "print(\"La surface est de\",surface,\"cm\\N{SUPERSCRIPT TWO}\");"
   ]
  },
  {
   "cell_type": "markdown",
   "id": "bb92c1a2",
   "metadata": {},
   "source": [
    "<div class =\"alert alert-block alert-info\">Il est possible de modifier le type d'une variable soi-même, appelé \"casting\". </div>"
   ]
  },
  {
   "cell_type": "code",
   "execution_count": 21,
   "id": "f9496f56",
   "metadata": {},
   "outputs": [
    {
     "name": "stdout",
     "output_type": "stream",
     "text": [
      "5\n"
     ]
    }
   ],
   "source": [
    "largeur = 5.76;\n",
    "largeur = int(largeur);\n",
    "print(largeur);"
   ]
  },
  {
   "cell_type": "markdown",
   "id": "ef56eec3",
   "metadata": {},
   "source": [
    "___"
   ]
  },
  {
   "cell_type": "markdown",
   "id": "71b8b957",
   "metadata": {},
   "source": [
    "___"
   ]
  },
  {
   "cell_type": "markdown",
   "id": "2f8240a7",
   "metadata": {},
   "source": [
    "Le casting est par exemple utile pour changer une valeur numérique en chaîne de caractères, par exemple :"
   ]
  },
  {
   "cell_type": "code",
   "execution_count": 34,
   "id": "0107c836",
   "metadata": {},
   "outputs": [
    {
     "name": "stdout",
     "output_type": "stream",
     "text": [
      "J'ai voyage de nombreuses fois à Sydney, j'y ai été 5 fois plus qu'à Paris.\n"
     ]
    }
   ],
   "source": [
    "ville1 = \"Sydney\"\n",
    "ville2 = \"Paris\"\n",
    "nombreVoyages = 5\n",
    "\n",
    "print(\"J'ai voyage de nombreuses fois à \"+ville1+\", j'y ai été \"+str(nombreVoyages)+\" fois plus qu'à \"+ville2+\".\")"
   ]
  },
  {
   "cell_type": "markdown",
   "id": "588592df",
   "metadata": {},
   "source": [
    "___"
   ]
  },
  {
   "cell_type": "markdown",
   "id": "4ee1d6f4",
   "metadata": {},
   "source": [
    "<div class =\"alert alert-block alert-info\">On va maintenant voir comment écrire des fonctions :</div>"
   ]
  },
  {
   "cell_type": "code",
   "execution_count": null,
   "id": "48396b65",
   "metadata": {},
   "outputs": [],
   "source": [
    "def affichePerimetre():\n",
    "    cote1 = 5\n",
    "    cote2 = 4\n",
    "    cote3 = 3\n",
    "    perimetre = cote1 + cote2 + cote3\n",
    "    print(perimetre)\n",
    "    \n",
    "affichePerimetre()"
   ]
  },
  {
   "cell_type": "markdown",
   "id": "277dee73",
   "metadata": {},
   "source": [
    "La fonction ci-dessus n'est pas très utile car elle ne prend aucun paramètres externes pour effectuer le calcul. Pour prendre des paramètres externe il faut procéder ainsi :"
   ]
  },
  {
   "cell_type": "code",
   "execution_count": 37,
   "id": "e40c3c9c",
   "metadata": {},
   "outputs": [
    {
     "name": "stdout",
     "output_type": "stream",
     "text": [
      "15\n",
      "9\n"
     ]
    }
   ],
   "source": [
    "def affichePerimetre(cote1, cote2, cote3):\n",
    "    perimetre = cote1 + cote2 + cote3\n",
    "    print(perimetre)\n",
    "    \n",
    "affichePerimetre(6, 4, 5)\n",
    "affichePerimetre(4, 3, 2)"
   ]
  },
  {
   "cell_type": "markdown",
   "id": "55c60a6d",
   "metadata": {},
   "source": [
    "Ici on a affiché la réponse retournée par la fonction, mais pour pouvoir utiliser cette valeur dans le code il va falloir définir une valeur retournée. On utilise pour cela \"return\" :"
   ]
  },
  {
   "cell_type": "code",
   "execution_count": 47,
   "id": "1f892811",
   "metadata": {},
   "outputs": [
    {
     "name": "stdout",
     "output_type": "stream",
     "text": [
      "Le périmetre du triangle 1 est de 6 cm et celui du triangle 2 est de 18 cm\n"
     ]
    }
   ],
   "source": [
    "def calculPerimetre(cote1, cote2, cote3):\n",
    "    perimetre = cote1 + cote2 + cote3\n",
    "    return(perimetre)\n",
    "\n",
    "perimetre1=calculPerimetre(1, 2, 3)\n",
    "perimetre2=calculPerimetre(5, 6, 7)\n",
    "\n",
    "print(\"Le périmetre du triangle 1 est de\",perimetre1,\"cm et celui du triangle 2 est de\",perimetre2,\"cm\")"
   ]
  },
  {
   "cell_type": "markdown",
   "id": "09d16517",
   "metadata": {},
   "source": [
    "<div class =\"alert alert-block alert-info\"> Si on ne se souvient plus du rôle d'une fonction ou des arguments qu'elle prend en entrée, on peut utiliser la fonction help :</div>"
   ]
  },
  {
   "cell_type": "code",
   "execution_count": 46,
   "id": "90b0498a",
   "metadata": {},
   "outputs": [
    {
     "name": "stdout",
     "output_type": "stream",
     "text": [
      "Help on built-in function pow in module builtins:\n",
      "\n",
      "pow(base, exp, mod=None)\n",
      "    Equivalent to base**exp with 2 arguments or base**exp % mod with 3 arguments\n",
      "    \n",
      "    Some types, such as ints, are able to use a more efficient algorithm when\n",
      "    invoked using the three argument form.\n",
      "\n"
     ]
    }
   ],
   "source": [
    "help(pow)"
   ]
  },
  {
   "cell_type": "markdown",
   "id": "ea966494",
   "metadata": {},
   "source": [
    "___"
   ]
  },
  {
   "cell_type": "code",
   "execution_count": 53,
   "id": "cbf21a06",
   "metadata": {},
   "outputs": [
    {
     "name": "stdout",
     "output_type": "stream",
     "text": [
      "VOICI UN EXEMPLE DE STRING POUR EXEMPLIFIER DIFFÉRENTES MÉTHODES\n",
      "Voici un exemple de string pour exemplifier différentes méthodes\n",
      "voici un exemple de string pour exemplifier différentes méthodes\n",
      "Voici un essai de STRING pour exemplifier différentes méthodes\n",
      "6\n",
      "-1\n"
     ]
    }
   ],
   "source": [
    "texte = \"Voici un exemple de STRING pour exemplifier différentes méthodes\"\n",
    "\n",
    "print(texte.upper())\n",
    "print(texte.capitalize())\n",
    "print(texte.lower())\n",
    "print(texte.replace(\"exemple\", \"essai\"))\n",
    "print(texte.find(\"un\"))\n",
    "print(texte.find(\"deux\"))"
   ]
  },
  {
   "cell_type": "markdown",
   "id": "d05040e5",
   "metadata": {},
   "source": [
    "<div class =\"alert alert-block alert-info\">Comme vu ci-dessus, les méthodes ne modifient pas l'objet initial, mais se contentent de retourner la résultat de la méthode appliquée à l'objet.</div>"
   ]
  },
  {
   "cell_type": "markdown",
   "id": "42803376",
   "metadata": {},
   "source": [
    "Exercice : https://colab.research.google.com/github/benjaminmrl/OC-python-101/blob/main/notebooks/P2C4%20exo.ipynb#scrollTo=8W7rciNeC6JL"
   ]
  },
  {
   "cell_type": "code",
   "execution_count": 56,
   "id": "b8fbeba2",
   "metadata": {},
   "outputs": [
    {
     "name": "stdout",
     "output_type": "stream",
     "text": [
      "je suis enerve !!\n",
      "je suis calme !!\n"
     ]
    }
   ],
   "source": [
    "maPhrase = \"JE SUIS ENERVE !!\"\n",
    "\n",
    "print(maPhrase.lower())\n",
    "print(maPhrase.replace(\"ENERVE\",\"calme\").lower())"
   ]
  },
  {
   "cell_type": "code",
   "execution_count": 58,
   "id": "acfb7e9e",
   "metadata": {},
   "outputs": [
    {
     "name": "stdout",
     "output_type": "stream",
     "text": [
      "0\n",
      "16\n",
      "1\n",
      "1\n"
     ]
    }
   ],
   "source": [
    "a = 4\n",
    "\n",
    "def polynome(a, b, c, x) : \n",
    "    return a*x**2 + b*x + c\n",
    "\n",
    "\n",
    "b=a\n",
    "b*=a\n",
    "c=1\n",
    "\n",
    "resultat = polynome(a, b, c, 0)\n",
    "\n",
    "a+=3\n",
    "a = 0 \n",
    "\n",
    "print(a)\n",
    "print(b)\n",
    "print(c)\n",
    "print(resultat)"
   ]
  },
  {
   "cell_type": "code",
   "execution_count": null,
   "id": "c0091b57",
   "metadata": {},
   "outputs": [],
   "source": []
  },
  {
   "cell_type": "code",
   "execution_count": null,
   "id": "45753845",
   "metadata": {},
   "outputs": [],
   "source": []
  }
 ],
 "metadata": {
  "kernelspec": {
   "display_name": "Python 3 (ipykernel)",
   "language": "python",
   "name": "python3"
  },
  "language_info": {
   "codemirror_mode": {
    "name": "ipython",
    "version": 3
   },
   "file_extension": ".py",
   "mimetype": "text/x-python",
   "name": "python",
   "nbconvert_exporter": "python",
   "pygments_lexer": "ipython3",
   "version": "3.10.9"
  }
 },
 "nbformat": 4,
 "nbformat_minor": 5
}
