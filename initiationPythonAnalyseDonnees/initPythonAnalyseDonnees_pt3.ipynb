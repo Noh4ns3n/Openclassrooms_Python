{
 "cells": [
  {
   "cell_type": "markdown",
   "id": "2feb1d2e",
   "metadata": {},
   "source": [
    "<div class=\"alert alert-block alert-info\">\n",
    "Python offre une structure, une classe capable de pouvoir stocker plusieurs informations comme une sorte de tableau. Cette structure est appelée une <b>liste</b>\n",
    "</div>"
   ]
  },
  {
   "cell_type": "code",
   "execution_count": 5,
   "id": "aff8b9c8",
   "metadata": {},
   "outputs": [
    {
     "name": "stdout",
     "output_type": "stream",
     "text": [
      "['Tintin', 'Milou', 'Tournesol', 'Castafiore']\n",
      "Tintin\n",
      "['Haddock', 'Milou', 'Tournesol', 'Castafiore']\n",
      "Haddock\n"
     ]
    }
   ],
   "source": [
    "nomClient = [\"Tintin\", \"Milou\", \"Tournesol\", \"Castafiore\"]\n",
    "\n",
    "print(nomClient)\n",
    "print(nomClient[0])\n",
    "\n",
    "nomClient[0] = \"Haddock\"\n",
    "\n",
    "print(nomClient)\n",
    "print(nomClient[0])"
   ]
  },
  {
   "cell_type": "markdown",
   "id": "471ecede",
   "metadata": {},
   "source": [
    "<div class=\"alert alert-block alert-info\"> Les éléments d'une liste possèdent chacun un <b>indice</b> (on peut le comparer à une <i>position</i> dans la liste). Le premier élément de la liste possède l'indice 0. On peut également utiliser des indices négatifs, ainsi l'indice -1 correspond au dernier élément de la liste, l'indice -2 à l'avant dernier, etc.</div>"
   ]
  },
  {
   "cell_type": "code",
   "execution_count": 11,
   "id": "f56fa9d8",
   "metadata": {},
   "outputs": [
    {
     "name": "stdout",
     "output_type": "stream",
     "text": [
      "Nouchka\n",
      "['Milou', 'Tournesol', 'Castafiore']\n",
      "['Tintin', 'Milou']\n"
     ]
    }
   ],
   "source": [
    "nomClient = [\"Tintin\", \"Milou\", \"Tournesol\", \"Castafiore\", \"Nouchka\"]\n",
    "\n",
    "print(nomClient[-1])\n",
    "print(nomClient[1:4])\n",
    "print(nomClient[:2])"
   ]
  },
  {
   "cell_type": "markdown",
   "id": "f8b6d5ec",
   "metadata": {},
   "source": [
    "<div class=\"alert-block alert-info\"> On peut très bien stocker différents types de variables au sein d'une même liste. On peut même stocker une liste dans une liste.</div>"
   ]
  },
  {
   "cell_type": "code",
   "execution_count": 15,
   "id": "fb08c125",
   "metadata": {},
   "outputs": [
    {
     "name": "stdout",
     "output_type": "stream",
     "text": [
      "2\n",
      "['Milou', 1]\n",
      "Milou\n"
     ]
    }
   ],
   "source": [
    "listeEtrange=[1, 2, 3, \"Tintin\", [\"Milou\", 1]]\n",
    "\n",
    "print(listeEtrange[1])\n",
    "print(listeEtrange[-1])\n",
    "print(listeEtrange[-1][0])\n"
   ]
  },
  {
   "cell_type": "markdown",
   "id": "16c50550",
   "metadata": {},
   "source": [
    "<div class=\"alert-block alert-info\">\n",
    "Exercice : https://colab.research.google.com/github/benjaminmrl/OC-python-101/blob/main/notebooks/P3C1%20exo1.ipynb\n",
    "</div>"
   ]
  },
  {
   "cell_type": "code",
   "execution_count": 20,
   "id": "1bbd303a",
   "metadata": {},
   "outputs": [
    {
     "name": "stdout",
     "output_type": "stream",
     "text": [
      "['rouge', 'jaune', 'vert', 'bleu', 'violet']\n",
      "['rouge', 'jaune', 'emeraude', 'bleu', 'violet']\n"
     ]
    }
   ],
   "source": [
    "couleurs=[\"rouge\", \"jaune\", \"vert\", \"bleu\", \"violet\"]\n",
    "print(couleurs)\n",
    "couleurs[2]=\"emeraude\"\n",
    "print(couleurs)"
   ]
  },
  {
   "cell_type": "markdown",
   "id": "580601a8",
   "metadata": {},
   "source": [
    "Vous pouvez très bien créer une liste vide en Python et ensuite ajouter les éléments un à un via la méthode append :"
   ]
  },
  {
   "cell_type": "code",
   "execution_count": 2,
   "id": "6ea12d5b",
   "metadata": {},
   "outputs": [
    {
     "name": "stdout",
     "output_type": "stream",
     "text": [
      "[7, 5]\n",
      "[7, 12, 5]\n",
      "[7, 12, 5, 12, 45, 46]\n",
      "[7, 12, 5, 45, 46]\n",
      "1\n",
      "4\n"
     ]
    }
   ],
   "source": [
    "liste = []\n",
    "liste.append(7) #append ajoute l'élément donné à la suite de la liste\n",
    "liste.append(5)\n",
    "print(liste)\n",
    "\n",
    "liste.insert(1,12) #ceci va insérer l'élément 12 à l'indice 1 et décaler les autres élements\n",
    "print(liste)\n",
    "\n",
    "liste2=[12, 45, 46] \n",
    "liste.extend(liste2) #extend a le même rôle qu'append mais avec une autre liste et pas une autre variable\n",
    "print(liste)\n",
    "\n",
    "del(liste[3]) #supprime l'élément à l'indice 3\n",
    "print(liste)\n",
    "\n",
    "liste.remove(12) #supprime l'élément 12\n",
    "\n",
    "a=liste.index(5) #retourne l'index de l'élément 5\n",
    "print(a)\n",
    "\n",
    "b=len(liste) #retourne la longueur de la liste\n",
    "print(b)"
   ]
  },
  {
   "cell_type": "markdown",
   "id": "3e653185",
   "metadata": {},
   "source": [
    "<div class=\"alert-block alert-info\">\n",
    "Exercice : https://colab.research.google.com/github/benjaminmrl/OC-python-101/blob/main/notebooks/P3C1%20exo2.ipynb\n",
    "</div>"
   ]
  },
  {
   "cell_type": "markdown",
   "id": "4cbe3ce4",
   "metadata": {},
   "source": [
    "___"
   ]
  },
  {
   "cell_type": "code",
   "execution_count": 10,
   "id": "ba917af1",
   "metadata": {},
   "outputs": [
    {
     "name": "stdout",
     "output_type": "stream",
     "text": [
      "1000\n",
      "{'Maman': 1000, 'Papa': 500, 'Moi': 100, 'Floflo': 5000}\n",
      "{'Maman': 1000, 'Papa': 500, 'Moi': 10100, 'Floflo': 5000}\n"
     ]
    }
   ],
   "source": [
    "dictionnaire={\"Maman\":1000, \"Papa\":500, \"Moi\":100}\n",
    "print(dictionnaire[\"Maman\"])\n",
    "dictionnaire[\"Floflo\"] = 5000\n",
    "print(dictionnaire)\n",
    "dictionnaire[\"Moi\"] += 10000\n",
    "print(dictionnaire)"
   ]
  },
  {
   "cell_type": "code",
   "execution_count": 3,
   "id": "ff512879",
   "metadata": {},
   "outputs": [
    {
     "name": "stdout",
     "output_type": "stream",
     "text": [
      "12\n",
      "56\n",
      "gateau\n"
     ]
    }
   ],
   "source": [
    "a, b, c = (12, 56, \"gateau\") #les tuples permettent de déclarer plusieurs variables en une seule ligne\n",
    "\n",
    "print(a)\n",
    "print(b)\n",
    "print(c)"
   ]
  },
  {
   "cell_type": "code",
   "execution_count": 4,
   "id": "94c36dc7",
   "metadata": {},
   "outputs": [
    {
     "ename": "TypeError",
     "evalue": "'tuple' object does not support item assignment",
     "output_type": "error",
     "traceback": [
      "\u001b[1;31m---------------------------------------------------------------------------\u001b[0m",
      "\u001b[1;31mTypeError\u001b[0m                                 Traceback (most recent call last)",
      "Cell \u001b[1;32mIn[4], line 3\u001b[0m\n\u001b[0;32m      1\u001b[0m \u001b[39mtuple\u001b[39m \u001b[39m=\u001b[39m (\u001b[39m5\u001b[39m, \u001b[39m87\u001b[39m, \u001b[39m\"\u001b[39m\u001b[39mgateau\u001b[39m\u001b[39m\"\u001b[39m)\n\u001b[1;32m----> 3\u001b[0m \u001b[39mtuple\u001b[39m[\u001b[39m1\u001b[39m] \u001b[39m=\u001b[39m \u001b[39m72\u001b[39m\n",
      "\u001b[1;31mTypeError\u001b[0m: 'tuple' object does not support item assignment"
     ]
    }
   ],
   "source": [
    "tuple = (5, 87, \"gateau\")\n",
    "\n",
    "tuple[1] = 72 #on ne peut pas modifier un tuple une fois créé ! cela retourne une erreur"
   ]
  },
  {
   "cell_type": "code",
   "execution_count": 9,
   "id": "6a75473a",
   "metadata": {},
   "outputs": [
    {
     "name": "stdout",
     "output_type": "stream",
     "text": [
      "Hello world!\n"
     ]
    }
   ],
   "source": [
    "userName = input(\"Quel est votre nom ?\")\n",
    "\n",
    "if len(userName) > 0:\n",
    "    print(\"Yo \"+userName+\" !\")\n",
    "else:\n",
    "    print(\"Hello world!\")"
   ]
  },
  {
   "attachments": {},
   "cell_type": "markdown",
   "id": "2ba161f6",
   "metadata": {},
   "source": [
    "<div class=\"alert alert-block alert-info\">Exercice : écrire un petit programme avec des conditions, telles que :\n",
    "\n",
    "si le client a plus de 10 000 € sur son compte, on lui attribue son prêt d’office ;\n",
    "\n",
    "s’il a entre 100 € et 10 000 €, on fait une étude de son dossier ;\n",
    "\n",
    "sinon on lui refuse.</div>"
   ]
  },
  {
   "cell_type": "code",
   "execution_count": 16,
   "id": "eea86d0b",
   "metadata": {},
   "outputs": [
    {
     "name": "stdout",
     "output_type": "stream",
     "text": [
      "Nous allons étudier votre dossier\n"
     ]
    }
   ],
   "source": [
    "solde=input(\"Quel est votre solde ?\")\n",
    "solde=int(solde)\n",
    "\n",
    "if solde < 100:\n",
    "    print(\"Prêt refusé !\")\n",
    "elif solde >=100 and solde <=10000:\n",
    "    print(\"Nous allons étudier votre dossier\")\n",
    "else:\n",
    "    print(\"Prêt accordé !\")\n"
   ]
  },
  {
   "cell_type": "code",
   "execution_count": 17,
   "id": "aa6b03d3",
   "metadata": {},
   "outputs": [
    {
     "name": "stdout",
     "output_type": "stream",
     "text": [
      "E\n",
      "l\n",
      "é\n",
      "m\n",
      "e\n",
      "n\n",
      "t\n",
      "s\n"
     ]
    }
   ],
   "source": [
    "monString = \"Eléments\"\n",
    "\n",
    "for elt in monString:\n",
    "    print(elt)"
   ]
  },
  {
   "cell_type": "code",
   "execution_count": 18,
   "id": "3671b22b",
   "metadata": {},
   "outputs": [
    {
     "name": "stdout",
     "output_type": "stream",
     "text": [
      "J'ai planté 1 arbres\n",
      "J'ai planté 2 arbres\n",
      "J'ai planté 3 arbres\n",
      "J'ai planté 4 arbres\n",
      "J'ai planté 5 arbres\n",
      "J'ai planté 6 arbres\n",
      "J'ai planté 7 arbres\n",
      "J'ai planté 8 arbres\n",
      "J'ai planté 9 arbres\n",
      "J'ai planté 10 arbres\n",
      "J'ai une chouette forêt !\n"
     ]
    }
   ],
   "source": [
    "nombreArbres = 0\n",
    "\n",
    "while nombreArbres < 10:\n",
    "    nombreArbres += 1\n",
    "    print(\"J'ai planté\", nombreArbres, \"arbres\")\n",
    "    \n",
    "print(\"J'ai une chouette forêt !\")"
   ]
  },
  {
   "attachments": {},
   "cell_type": "markdown",
   "id": "7dcd84e8",
   "metadata": {},
   "source": [
    "https://colab.research.google.com/github/benjaminmrl/OC-python-101/blob/main/notebooks/P3C3%20exo.ipynb"
   ]
  },
  {
   "cell_type": "code",
   "execution_count": 19,
   "id": "c45e3e5a",
   "metadata": {},
   "outputs": [
    {
     "name": "stdout",
     "output_type": "stream",
     "text": [
      "0\n",
      "i != 2 & i != 5\n",
      "1\n",
      "i != 2 & i != 5\n",
      "2\n",
      "Cas spécial\n",
      "3\n",
      "i != 2 & i != 5\n",
      "4\n",
      "i != 2 & i != 5\n",
      "5\n",
      "Cas spécial\n",
      "6\n",
      "i != 2 & i != 5\n",
      "7\n",
      "i != 2 & i != 5\n",
      "8\n",
      "i != 2 & i != 5\n",
      "9\n",
      "i != 2 & i != 5\n"
     ]
    }
   ],
   "source": [
    "for i in range(10):\n",
    "    # instructions réalisées à chaque itération\n",
    "    print(i)\n",
    "    if (i == 2) or (i == 5):\n",
    "        print(\"Cas spécial\")\n",
    "        continue \n",
    "    # instructions non exécutées si i == 2 or 5 \n",
    "    print(\"i != 2 & i != 5\")\n"
   ]
  },
  {
   "cell_type": "code",
   "execution_count": 22,
   "id": "852e7cff",
   "metadata": {},
   "outputs": [
    {
     "name": "stdout",
     "output_type": "stream",
     "text": [
      "J'ai une fraise !\n",
      "J'ai une pomme !\n",
      "J'ai une orange !\n",
      "Je m'arrête\n"
     ]
    }
   ],
   "source": [
    "panier = [\"fraise\", \"pomme\", \"orange\", \"banane\"]\n",
    "\n",
    "for fruit in panier:\n",
    "    print(\"J'ai une\", fruit,\"!\")\n",
    "    if fruit == \"orange\":\n",
    "        print(\"Je m'arrête\")\n",
    "        break"
   ]
  },
  {
   "cell_type": "code",
   "execution_count": 24,
   "id": "1adf9c87",
   "metadata": {},
   "outputs": [
    {
     "name": "stdout",
     "output_type": "stream",
     "text": [
      "yeah b !\n"
     ]
    }
   ],
   "source": [
    "d = {'a': 0, 'b': 1, 'c': 0}\n",
    "\n",
    "if d['a'] > 0:\n",
    "    print('yeah !')\n",
    "elif d['b'] > 0:\n",
    "    print('yeah b !')\n",
    "elif d['c'] > 0:\n",
    "    print('ok')\n",
    "elif d['d'] > 0:\n",
    "    print('ok')\n",
    "else:\n",
    "    print('not ok')"
   ]
  },
  {
   "cell_type": "code",
   "execution_count": null,
   "id": "aa470252",
   "metadata": {},
   "outputs": [],
   "source": []
  }
 ],
 "metadata": {
  "kernelspec": {
   "display_name": "Python 3 (ipykernel)",
   "language": "python",
   "name": "python3"
  },
  "language_info": {
   "codemirror_mode": {
    "name": "ipython",
    "version": 3
   },
   "file_extension": ".py",
   "mimetype": "text/x-python",
   "name": "python",
   "nbconvert_exporter": "python",
   "pygments_lexer": "ipython3",
   "version": "3.10.9"
  }
 },
 "nbformat": 4,
 "nbformat_minor": 5
}
