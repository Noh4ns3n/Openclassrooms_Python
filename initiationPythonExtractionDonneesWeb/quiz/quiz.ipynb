{
 "cells": [
  {
   "cell_type": "code",
   "execution_count": 48,
   "metadata": {},
   "outputs": [],
   "source": [
    "import requests\n",
    "from bs4 import BeautifulSoup\n",
    "import csv\n",
    "\n",
    "def extraire_donnees(elements):\n",
    "    resultat = []\n",
    "    for element in elements:\n",
    "        resultat.append(element.string)\n",
    "    return resultat\n",
    "\n",
    "with open(\"code2.html\", \"r\") as file_html:\n",
    "    content=file_html.read()\n",
    "    soup=BeautifulSoup(content, \"html.parser\")\n",
    "\n",
    "jus = soup.find_all(class_=\"jus\")\n",
    "prix = soup.findAll(class_=\"prix\")\n",
    "\n",
    "nomsJus=extraire_donnees(jus)\n",
    "prixJus=extraire_donnees(prix)\n",
    "en_tete=[\"noms\", \"prix\"]\n",
    "\n",
    "with open(\"jus.csv\", \"w\") as file_csv:\n",
    "    writer=csv.writer(file_csv, delimiter=\",\")\n",
    "    writer.writerow(en_tete)\n",
    "    for nom, prix in zip(nomsJus, prixJus):\n",
    "        ligne=[nom, prix]\n",
    "        writer.writerow(ligne)\n",
    "    \n"
   ]
  },
  {
   "cell_type": "code",
   "execution_count": null,
   "metadata": {},
   "outputs": [],
   "source": []
  }
 ],
 "metadata": {
  "kernelspec": {
   "display_name": "base",
   "language": "python",
   "name": "python3"
  },
  "language_info": {
   "codemirror_mode": {
    "name": "ipython",
    "version": 3
   },
   "file_extension": ".py",
   "mimetype": "text/x-python",
   "name": "python",
   "nbconvert_exporter": "python",
   "pygments_lexer": "ipython3",
   "version": "3.10.9"
  },
  "orig_nbformat": 4
 },
 "nbformat": 4,
 "nbformat_minor": 2
}
