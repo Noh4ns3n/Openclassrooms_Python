{
 "cells": [
  {
   "cell_type": "code",
   "execution_count": 1,
   "metadata": {},
   "outputs": [],
   "source": [
    "import requests\n",
    "import csv\n",
    "from bs4 import BeautifulSoup\n",
    "\n",
    "url=\"https://www.lemonde.fr/archives-du-monde/01-01-2023/\"\n",
    "page=requests.get(url) # récupère le code HTML de la page web à l'URL \"url\"\n",
    "soup = BeautifulSoup(page.content, \"html.parser\") # crée un objet soup à partir du code HTML\n",
    "\n",
    "titres=soup.find_all(\"h3\", class_=\"teaser__title\")\n",
    "descriptions=soup.find_all(\"p\", class_=\"teaser__desc\")\n",
    "\n",
    "en_tete=[\"titres\", \"descriptions\"]\n",
    "\n",
    "with open(\"datasLeMonde.csv\", \"w\") as fichier_csv:\n",
    "    writer=csv.writer(fichier_csv, delimiter=\",\")\n",
    "    writer.writerow(en_tete)\n",
    "\n",
    "    for titre, description in zip(titres, descriptions):\n",
    "        ligne=[titre.string, description.string]\n",
    "        writer.writerow(ligne)\n",
    "\n"
   ]
  },
  {
   "cell_type": "code",
   "execution_count": null,
   "metadata": {},
   "outputs": [],
   "source": []
  }
 ],
 "metadata": {
  "kernelspec": {
   "display_name": "base",
   "language": "python",
   "name": "python3"
  },
  "language_info": {
   "codemirror_mode": {
    "name": "ipython",
    "version": 3
   },
   "file_extension": ".py",
   "mimetype": "text/x-python",
   "name": "python",
   "nbconvert_exporter": "python",
   "pygments_lexer": "ipython3",
   "version": "3.10.9"
  },
  "orig_nbformat": 4
 },
 "nbformat": 4,
 "nbformat_minor": 2
}
