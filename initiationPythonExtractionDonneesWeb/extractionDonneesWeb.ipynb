{
 "cells": [
  {
   "attachments": {},
   "cell_type": "markdown",
   "metadata": {},
   "source": [
    "URL du cours sur OpenClassrooms : https://openclassrooms.com/fr/courses/7168871-apprenez-les-bases-du-langage-python/7296776-extrayez-et-transformez-des-donnees-avec-lextraction-web"
   ]
  },
  {
   "cell_type": "code",
   "execution_count": null,
   "metadata": {},
   "outputs": [],
   "source": [
    "import requests\n",
    "url = \"https://www.gov.uk/search/news-and-communications\"\n",
    "page = requests.get(url)\n",
    "# Voir le code html source\n",
    "print(page.content)"
   ]
  },
  {
   "attachments": {},
   "cell_type": "markdown",
   "metadata": {},
   "source": [
    "Requests permet d'extraire le code HTML de la page web souhaitée. On utilise ensuite BeautifulSoup pour récupérer les informations souhaitées facilement"
   ]
  },
  {
   "cell_type": "code",
   "execution_count": null,
   "metadata": {},
   "outputs": [],
   "source": [
    "import requests\n",
    "from bs4 import BeautifulSoup\n",
    "url = \"https://www.gov.uk/search/news-and-communications\"\n",
    "page = requests.get(url)\n",
    "soup = BeautifulSoup(page.content, 'html.parser')"
   ]
  },
  {
   "cell_type": "code",
   "execution_count": null,
   "metadata": {},
   "outputs": [],
   "source": [
    "titres = soup.find_all(\"a\", class_=\"gem-c-document-list__item-title\")\n",
    "\n",
    "for title in titres:\n",
    "    print(title)"
   ]
  },
  {
   "cell_type": "code",
   "execution_count": null,
   "metadata": {},
   "outputs": [],
   "source": [
    "titres = soup.find_all(\"a\", class_=\"gem-c-document-list__item-title\")\n",
    "\n",
    "for title in titres:\n",
    "    print(title.string)"
   ]
  },
  {
   "cell_type": "markdown",
   "metadata": {},
   "source": [
    "Maintenant qu'on a extrait les titres, je vais essayer d'extraire les descriptions :"
   ]
  },
  {
   "cell_type": "code",
   "execution_count": null,
   "metadata": {},
   "outputs": [],
   "source": [
    "descriptions = soup.find_all(\"p\", class_=\"gem-c-document-list__item-description\")\n",
    "\n",
    "for description in descriptions:\n",
    "    print(description.string)\n",
    "    print(\"____________________________\")"
   ]
  },
  {
   "cell_type": "code",
   "execution_count": 11,
   "metadata": {},
   "outputs": [],
   "source": [
    "import requests\n",
    "import csv\n",
    "from bs4 import BeautifulSoup\n",
    "# récupère le code HTML de la page à l'URL demandée\n",
    "url = \"https://www.gov.uk/search/news-and-communications\"\n",
    "page = requests.get(url)\n",
    "soup = BeautifulSoup(page.content, 'html.parser')\n",
    "\n",
    "# récupère les titres et description dans les listes \"titres\" et \"descriptions\"\n",
    "titres = soup.find_all(\"a\", class_=\"gem-c-document-list__item-title\")\n",
    "descriptions = soup.find_all(\"p\", class_=\"gem-c-document-list__item-description\")\n",
    "\n",
    "# crée une liste pour les en têtes\n",
    "en_tete=[\"titre\", \"description\"]\n",
    "\n",
    "# crée un nouveau fichier \"datas.csv\" pour écrire dedans\n",
    "with open(\"datas.csv\", \"w\") as fichier_csv:\n",
    "    # crée un objet writer avec ce fichier\n",
    "    writer = csv.writer(fichier_csv, delimiter=\",\")\n",
    "    writer.writerow(en_tete)\n",
    "\n",
    "    # parcourt les titres et descriptions (zip permet d'itérer sur deux listes à la fois)\n",
    "    for titre, description in zip(titres, descriptions):\n",
    "        # crée une nouvelle ligne avec titre et description\n",
    "        ligne = [titre.string, description.string]\n",
    "        writer.writerow(ligne)"
   ]
  },
  {
   "cell_type": "code",
   "execution_count": 12,
   "metadata": {},
   "outputs": [
    {
     "name": "stdout",
     "output_type": "stream",
     "text": [
      "[<p class=\"article__title-label\">Emmanuel Macron attendu sur sa stratégie européenne lors d’une visite d’Etat aux Pays-Bas</p>]\n",
      "[<p class=\"article__desc\">Emmanuel Macron doit présenter dans un discours, mardi, sa vision de la souveraineté et de la sécurité européenne en matière économique et industrielle.</p>, <p class=\"article__desc article__subheader\">Commandé après la mort d’une fillette dans une crèche privée en 2022, le diagnostic souligne de nombreuses défaillances et n’hésite pas à faire un parallèle avec les Ehpad. Les auteurs appellent à un « changement culturel » dans les établissements d’accueil des jeunes enfants.</p>, <p class=\"article__desc\">Alors que le nom de Gérard Larcher circule pour Matignon, l’idée de venir élargir la majorité est bien sur la table à droite, y compris pour le président du parti, Eric Ciotti. Mais certains, comme Aurélien Pradié, y sont radicalement opposés.</p>, <p class=\"article__desc\">En plein essor, le marché des énergies renouvelables attire de nombreux jeunes désireux d’aligner engagement environnemental et activité professionnelle. Mais si les formations longues font carton plein, les cursus plus opérationnels peinent à attirer des candidats.</p>, <p class=\"article__desc\">Alors que le chef de l’Etat met en avant son élection pour justifier sa détermination à mettre en œuvre sa réforme, l’opposition de gauche et les syndicats soulignent que « le peuple » y est majoritairement opposé.</p>, <p class=\"article__desc article__subheader\">Son plaidoyer pour une « autonomie stratégique » européenne et ses déclarations sur Taïwan ont provoqué l’inquiétude de Taipei et ont choqué aux Etats-Unis.</p>, <p class=\"article__desc\">Les mesures annoncées ces dernières semaines pour la préservation de l’environnement et de la santé ne reposent sur aucune contrainte réglementaire et favorisent sans le dire le laisser-faire, estime dans sa chronique Stéphane Foucart, journaliste au « Monde ».</p>, <p class=\"article__desc\">Le pénaliste faisait partie de ceux qui avaient vu arriver, au mitan des années 1990, une nouvelle clientèle de grands patrons et d’hommes politiques. Il avait notamment défendu Bernard Tapie, Jacques Servier ou le marchand d’art Guy Wildenstein. Il est mort à l’âge de 65 ans, a annoncé le ministre de la justice Eric Dupond-Moretti lundi.</p>]\n"
     ]
    },
    {
     "data": {
      "text/plain": [
       "'\\nen_tete=[\"titres\", \"descriptions\"]\\n\\nwith open(\"datasLeMonde.csv\", \"w\") as fichier_csv:\\n    writer=csv.writer(fichier_csv, delimiter=\",\")\\n    writer.writerow(en_tete)\\n\\n    for titre, description in zip(titres, descriptions):\\n        ligne=[titre.string, description.string]\\n        writer.writerow(ligne)\\n'"
      ]
     },
     "execution_count": 12,
     "metadata": {},
     "output_type": "execute_result"
    }
   ],
   "source": [
    "import requests\n",
    "import csv\n",
    "from bs4 import BeautifulSoup\n",
    "\n",
    "url=\"https://www.lemonde.fr/\"\n",
    "page=requests.get(url) # récupère le code HTML de la page web à l'URL \"url\"\n",
    "soup = BeautifulSoup(page.content, \"html.parser\") # crée un objet soup à partir du code HTML\n",
    "\n",
    "titres=soup.find_all(\"p\", class_=\"article__title-label\")\n",
    "descriptions=soup.find_all(\"p\", class_=\"article__desc\")\n",
    "print(titres)\n",
    "print(descriptions)\n",
    "\n",
    "\"\"\"\n",
    "en_tete=[\"titres\", \"descriptions\"]\n",
    "\n",
    "with open(\"datasLeMonde.csv\", \"w\") as fichier_csv:\n",
    "    writer=csv.writer(fichier_csv, delimiter=\",\")\n",
    "    writer.writerow(en_tete)\n",
    "\n",
    "    for titre, description in zip(titres, descriptions):\n",
    "        ligne=[titre.string, description.string]\n",
    "        writer.writerow(ligne)\n",
    "\"\"\""
   ]
  },
  {
   "cell_type": "code",
   "execution_count": null,
   "metadata": {},
   "outputs": [],
   "source": []
  }
 ],
 "metadata": {
  "kernelspec": {
   "display_name": "base",
   "language": "python",
   "name": "python3"
  },
  "language_info": {
   "codemirror_mode": {
    "name": "ipython",
    "version": 3
   },
   "file_extension": ".py",
   "mimetype": "text/x-python",
   "name": "python",
   "nbconvert_exporter": "python",
   "pygments_lexer": "ipython3",
   "version": "3.10.9"
  },
  "orig_nbformat": 4
 },
 "nbformat": 4,
 "nbformat_minor": 2
}
