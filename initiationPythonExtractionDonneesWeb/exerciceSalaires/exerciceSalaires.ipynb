{
 "cells": [
  {
   "cell_type": "code",
   "execution_count": 31,
   "metadata": {},
   "outputs": [],
   "source": [
    "import csv\n",
    "\n",
    "with open('input.csv') as input_csv:\n",
    "   reader = csv.DictReader(input_csv, delimiter=',')\n",
    "   noms=[]\n",
    "   salaires=[]\n",
    "   for ligne in reader:\n",
    "      noms.append(ligne[\"nom\"])\n",
    "      salaires.append(int(ligne[\"heures_travaillees\"])*15)\n",
    "    \n",
    "en_tete=[\"noms\", \"salaires\"]\n",
    "\n",
    "with open(\"output.csv\", \"w\") as output_csv:\n",
    "   writer = csv.writer(output_csv, delimiter=\",\")\n",
    "   writer.writerow(en_tete)\n",
    "   for nom, salaire in zip(noms, salaires):\n",
    "      writer.writerow([nom, salaire])\n",
    "      \n"
   ]
  },
  {
   "cell_type": "code",
   "execution_count": null,
   "metadata": {},
   "outputs": [],
   "source": []
  }
 ],
 "metadata": {
  "kernelspec": {
   "display_name": "base",
   "language": "python",
   "name": "python3"
  },
  "language_info": {
   "codemirror_mode": {
    "name": "ipython",
    "version": 3
   },
   "file_extension": ".py",
   "mimetype": "text/x-python",
   "name": "python",
   "nbconvert_exporter": "python",
   "pygments_lexer": "ipython3",
   "version": "3.10.9"
  },
  "orig_nbformat": 4
 },
 "nbformat": 4,
 "nbformat_minor": 2
}
