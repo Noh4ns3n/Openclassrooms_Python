{
 "cells": [
  {
   "cell_type": "code",
   "execution_count": 8,
   "metadata": {},
   "outputs": [],
   "source": [
    "import requests\n",
    "from bs4 import BeautifulSoup\n",
    "import csv\n",
    "\n",
    "# fonction pour transformer les données (ici récupérer les strings)\n",
    "def extractionDonnees(elements):\n",
    "\tresultat=[]\n",
    "\tfor element in elements:\n",
    "\t\tresultat.append(element.string)\n",
    "\treturn resultat\n",
    "\n",
    "# fonction pour charger les données dans un fichier csv\n",
    "def chargerDonnees(nom_fichier, en_tete, titres, descriptions):\n",
    "\twith open(nom_fichier, \"w\") as fichier_csv:\n",
    "\t\twriter=csv.writer(fichier_csv, delimiter=\",\")\n",
    "\t\twriter.writerow(en_tete)\n",
    "\t\tfor titre, description in zip(titres, descriptions):\n",
    "\t\t\twriter.writerow([titre, description])\n",
    "\n",
    "# fonction d'ETL complète\n",
    "def etl():\n",
    "\t# lien de la page à scrapper\n",
    "\turl = \"https://www.gov.uk/search/news-and-communications\"\n",
    "\treponse = requests.get(url)\n",
    "\tpage = reponse.content\n",
    "\tsoup = BeautifulSoup(page, \"html.parser\")\n",
    "\n",
    "\t# extraction de tous les titres et descriptions\n",
    "\ttitres = soup.find_all(\"a\", class_=\"gem-c-document-list__item-title\")\n",
    "\tdescriptions = soup.find_all(\"p\", class_=\"gem-c-document-list__item-description\")\n",
    "\ten_tete = ['titre', 'description']\n",
    "\n",
    "\t# transformation et loading des données\n",
    "\ttitres=extractionDonnees(titres)\n",
    "\tdescriptions=extractionDonnees(descriptions)\n",
    "\tchargerDonnees(\"test.csv\", en_tete, titres, descriptions)\n",
    "\n",
    "etl()"
   ]
  },
  {
   "cell_type": "code",
   "execution_count": null,
   "metadata": {},
   "outputs": [],
   "source": []
  }
 ],
 "metadata": {
  "kernelspec": {
   "display_name": "base",
   "language": "python",
   "name": "python3"
  },
  "language_info": {
   "codemirror_mode": {
    "name": "ipython",
    "version": 3
   },
   "file_extension": ".py",
   "mimetype": "text/x-python",
   "name": "python",
   "nbconvert_exporter": "python",
   "pygments_lexer": "ipython3",
   "version": "3.10.9"
  },
  "orig_nbformat": 4
 },
 "nbformat": 4,
 "nbformat_minor": 2
}
