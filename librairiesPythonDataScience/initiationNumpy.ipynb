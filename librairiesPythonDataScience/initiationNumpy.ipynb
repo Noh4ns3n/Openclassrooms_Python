{
 "cells": [
  {
   "attachments": {},
   "cell_type": "markdown",
   "metadata": {},
   "source": [
    "**Créez vos premiers arrays avec NumPy :**\n"
   ]
  },
  {
   "cell_type": "code",
   "execution_count": 15,
   "metadata": {},
   "outputs": [
    {
     "data": {
      "text/plain": [
       "2134.4"
      ]
     },
     "execution_count": 15,
     "metadata": {},
     "output_type": "execute_result"
    }
   ],
   "source": [
    "import numpy as np\n",
    "\n",
    "revenus = [1800, 1500, 2200, 3000, 2172]\n",
    "\n",
    "np.mean(revenus)\n"
   ]
  },
  {
   "attachments": {},
   "cell_type": "markdown",
   "metadata": {},
   "source": [
    "Un des avantages majeurs de Numpy est la notion d'Array qui vient avec. Ils sont semblables aux listes classiques de Python mais permettent des opérations bien plus rapides (jusqu'à 30 fois à mesure que la taille de l'Array augmente). \n",
    "\n",
    "Contrairement aux listes Python, on ne peut stocker qu'un seul type de variable dans un Array."
   ]
  },
  {
   "cell_type": "code",
   "execution_count": 3,
   "metadata": {},
   "outputs": [
    {
     "name": "stdout",
     "output_type": "stream",
     "text": [
      "La valeur absolue:  [2 1 1 2]\n",
      "Exponentielle:  [0.13533528 0.36787944 2.71828183 7.3890561 ]\n",
      "Logarithme:  [0.69314718 0.         0.         0.69314718]\n"
     ]
    }
   ],
   "source": [
    "x = [-2, -1, 1, 2]\n",
    "print(\"La valeur absolue: \", np.abs(x))\n",
    "print(\"Exponentielle: \", np.exp(x))\n",
    "print(\"Logarithme: \", np.log(np.abs(x)))"
   ]
  },
  {
   "attachments": {},
   "cell_type": "markdown",
   "metadata": {},
   "source": [
    "Pour créer un array NumPy, le plus simple est de commencer par une liste Python classique (telle que la liste \"revenus\" ci-dessus). \n",
    "\n",
    "Si la liste Python contient des variables de plusieurs types, NumPy s'efforcera de les convertir dans le type le plus général au moment de créer l'Array. \n",
    "\n",
    "Par exemple si une liste contient des int et des float, NumPy les convertira toutes en float."
   ]
  },
  {
   "cell_type": "code",
   "execution_count": 4,
   "metadata": {},
   "outputs": [],
   "source": [
    "revenus = [1800, 1500, 2200, 3000, 2172]\n",
    "\n",
    "revenus_array = np.array(revenus) "
   ]
  },
  {
   "attachments": {},
   "cell_type": "markdown",
   "metadata": {},
   "source": [
    "Numpy permet également de créer des arrays selon différents patterns :"
   ]
  },
  {
   "cell_type": "code",
   "execution_count": null,
   "metadata": {},
   "outputs": [],
   "source": [
    "np.zeros(n) #permet de créer un array rempli de 0, de n éléments ;\n",
    "np.ones(n) #similaire en tous points à la fonction présentée ci-dessus, à la différence que l’array sera rempli cette fois-ci de 1 ;\n",
    "np.arange(i, j, p)  #permet de créer un array rempli avec une séquence linéaire, qui ira de  i  à  j, par pas de  p  ;\n",
    "np.linspace(i, j, n) #permet de créer un array de  n  valeurs espacées uniformément entre  i  et  j."
   ]
  },
  {
   "cell_type": "code",
   "execution_count": 8,
   "metadata": {},
   "outputs": [
    {
     "data": {
      "text/plain": [
       "dtype('int32')"
      ]
     },
     "execution_count": 8,
     "metadata": {},
     "output_type": "execute_result"
    }
   ],
   "source": [
    "revenus_array.dtype #permet de connaître le type (int, float, etc.) et la précision (8, 16, 32bits etc.) du type de variables dans l'array"
   ]
  },
  {
   "attachments": {},
   "cell_type": "markdown",
   "metadata": {},
   "source": [
    "La manipulation des array est similaire aux listes classiques :"
   ]
  },
  {
   "attachments": {},
   "cell_type": "markdown",
   "metadata": {},
   "source": [
    "**Sélectionner des éléments au sein d'un array**"
   ]
  },
  {
   "cell_type": "code",
   "execution_count": null,
   "metadata": {},
   "outputs": [],
   "source": [
    "# pour accéder au 5ème élement\n",
    "revenus_array[4] \n",
    "# pour accéder au dernier élément\n",
    "revenus_array[-1]\n",
    "# On peut aussi modifier les valeurs\n",
    "revenus_array[1] = 1900"
   ]
  },
  {
   "attachments": {},
   "cell_type": "markdown",
   "metadata": {},
   "source": [
    "Accéder à plusieurs éléments contigus :"
   ]
  },
  {
   "attachments": {},
   "cell_type": "markdown",
   "metadata": {},
   "source": [
    "nom_array[i,j,p] avec i indice de départ, j indice "
   ]
  },
  {
   "cell_type": "code",
   "execution_count": 9,
   "metadata": {},
   "outputs": [
    {
     "name": "stdout",
     "output_type": "stream",
     "text": [
      "[1800 1500 2200]\n",
      "[2200 3000 2172]\n",
      "[1800 2200 2172]\n",
      "[2172 3000 2200 1500 1800]\n"
     ]
    }
   ],
   "source": [
    "# Les 3 premiers éléments\n",
    "print(revenus_array[:3])\n",
    "# Les éléments à partir de l’indice 2\n",
    "print(revenus_array[2:])\n",
    "# Un élément sur deux\n",
    "print(revenus_array[::2])\n",
    "\n",
    "# Si le pas est négatif, le début et la fin sont inversés:\n",
    "print(revenus_array[::-1])"
   ]
  },
  {
   "attachments": {},
   "cell_type": "markdown",
   "metadata": {},
   "source": [
    "On peut également accéder à des éléments d'un array selon une condition :"
   ]
  },
  {
   "cell_type": "code",
   "execution_count": 10,
   "metadata": {},
   "outputs": [
    {
     "name": "stdout",
     "output_type": "stream",
     "text": [
      "[2200 3000 2172]\n"
     ]
    }
   ],
   "source": [
    "print(revenus_array[revenus_array > 2000])"
   ]
  },
  {
   "cell_type": "code",
   "execution_count": null,
   "metadata": {},
   "outputs": [],
   "source": [
    "# On peut combiner les conditions : \n",
    "revenus_array[(revenus_array > 2000) & (revenus_array < 3000)]\n",
    "\n",
    "# A noter : dans ce cas le \"et\" logique s'écrit &, et le \"ou\" logique s'écrit |\n",
    "\n",
    "# On peut donc modifier certaines valeurs sous condition : \n",
    "revenus_array[revenus_array > 2000] = 0"
   ]
  },
  {
   "attachments": {},
   "cell_type": "markdown",
   "metadata": {},
   "source": [
    "**Les méthodes d'array :**"
   ]
  },
  {
   "cell_type": "code",
   "execution_count": 13,
   "metadata": {},
   "outputs": [
    {
     "name": "stdout",
     "output_type": "stream",
     "text": [
      "[1500 1800 2172 2200 3000]\n"
     ]
    },
    {
     "data": {
      "text/plain": [
       "10672"
      ]
     },
     "execution_count": 13,
     "metadata": {},
     "output_type": "execute_result"
    }
   ],
   "source": [
    "# Comme vu précédemment, la méthode .dtype permet d'obtenir le type et la précision d'un array\n",
    "\n",
    "# La méthode .shape permet d'obtenir ses dimensions\n",
    "revenus_array.shape\n",
    "\n",
    "# On peut également appliquer de nombreuses opérations mathématiques :\n",
    "\n",
    "# calculer la moyenne\n",
    "revenus_array.mean()\n",
    "# calculer le maximum (ou le minimum) :\n",
    "revenus_array.max()\n",
    "revenus_array.min()\n",
    "# accéder à l’indice de l’élement minimum (ou maximum) :\n",
    "revenus_array.argmin()\n",
    "revenus_array.argmax()\n",
    "# ordonner par ordre croissant :\n",
    "revenus_array.sort()\n",
    "print(revenus_array)\n",
    "# calculer la somme :\n",
    "revenus_array.sum()"
   ]
  },
  {
   "attachments": {},
   "cell_type": "markdown",
   "metadata": {},
   "source": [
    "**Exercice :**\n",
    "\n",
    "https://colab.research.google.com/github/OpenClassrooms-Student-Center/fr-4452741-decouvrez-les-librairies-python-pour-la-data-science/blob/main/notebooks/P1/P1C3%20-%20Cr%C3%A9ez%20vos%20premiers%20arrays%20avec%20Numpy.ipynb\n",
    "\n",
    "**Correction :**\n",
    "https://colab.research.google.com/github/OpenClassrooms-Student-Center/fr-4452741-decouvrez-les-librairies-python-pour-la-data-science/blob/main/notebooks/P1/P1C3%20-%20Cr%C3%A9ez%20vos%20premiers%20arrays%20avec%20Numpy%20-%20correction.ipynb#scrollTo=16fe3f16"
   ]
  },
  {
   "attachments": {},
   "cell_type": "markdown",
   "metadata": {},
   "source": [
    "**TL;DR**"
   ]
  },
  {
   "attachments": {},
   "cell_type": "markdown",
   "metadata": {},
   "source": [
    "* NumPy (pour Numerical Python) est une librairie Python permettant de manipuler et d’effectuer rapidement et simplement de nombreuses opérations mathématiques sur un tableau de données.\n",
    "\n",
    "* Les données sont stockées dans une structure similaire à une liste Python, un tableau NumPy, ou array.\n",
    "\n",
    "* Ce dernier, contrairement à une liste, est obligatoirement monotype.\n",
    "\n",
    "* On peut sélectionner au sein d’un array :\n",
    "\n",
    "    * un élément via son indice avec l’écriture :  nom_array[indice]  ;\n",
    "\n",
    "    * plusieurs éléments contigus via la syntaxe :  nom_array[début:fin:pas]  ;\n",
    "\n",
    "    * certains éléments spécifiques via une condition :  nom_array[condition]  .\n",
    "\n",
    "* Les arrays possèdent de nombreuses méthodes permettant de les manipuler ou d'effectuer des opérations mathématiques, de façon très simple."
   ]
  },
  {
   "cell_type": "markdown",
   "metadata": {},
   "source": []
  },
  {
   "attachments": {},
   "cell_type": "markdown",
   "metadata": {},
   "source": [
    "## Arrays à deux dimensions\n",
    "\n",
    "On peut créer des array qui contiennent plusieurs colonnes (array à deux dimensions)\n",
    "\n",
    "Pour cela le plus simple est de partir d'une liste de listes :"
   ]
  },
  {
   "cell_type": "code",
   "execution_count": 14,
   "metadata": {},
   "outputs": [
    {
     "data": {
      "text/plain": [
       "[[1200, 400, 22],\n",
       " [1700, 500, 33],\n",
       " [2400, 400, 28],\n",
       " [2500, 600, 38],\n",
       " [3000, 800, 25]]"
      ]
     },
     "execution_count": 14,
     "metadata": {},
     "output_type": "execute_result"
    }
   ],
   "source": [
    "# Ex : pour chaque client d'une banque, on a une liste des informations suivantes : revenu mensuel, mensualité et âge\n",
    "\n",
    "hugo = [1200, 400, 22]\n",
    "richard = [1700, 500, 33]\n",
    "paul = [2400, 400, 28]\n",
    "jacques = [2500, 600, 38]\n",
    "emile = [3000, 800, 25]\n",
    "\n",
    "# On crée une liste de listes :\n",
    "\n",
    "tableau = [hugo, richard, paul, jacques, emile]\n",
    "tableau"
   ]
  },
  {
   "cell_type": "code",
   "execution_count": 16,
   "metadata": {},
   "outputs": [
    {
     "data": {
      "text/plain": [
       "array([[1200,  400,   22],\n",
       "       [1700,  500,   33],\n",
       "       [2400,  400,   28],\n",
       "       [2500,  600,   38],\n",
       "       [3000,  800,   25]])"
      ]
     },
     "execution_count": 16,
     "metadata": {},
     "output_type": "execute_result"
    }
   ],
   "source": [
    "# Puis on convertit cette liste de liste en array NumPy :\n",
    "data = np.array(tableau)\n",
    "data"
   ]
  },
  {
   "attachments": {},
   "cell_type": "markdown",
   "metadata": {},
   "source": [
    "Ces arrays sont comparables à des matrices mathématiques. \n",
    "On peut faire la somme de deux matrices de mêmes dimensions via la formule A+B (avec A et B les matrices)\n",
    "On peut faire le produit matriciel de deux matrices avec A @ B\n",
    "On peut calculer le produit terme à terme avec A * B"
   ]
  },
  {
   "cell_type": "code",
   "execution_count": 18,
   "metadata": {},
   "outputs": [
    {
     "data": {
      "text/plain": [
       "array([22, 33, 28, 38, 25])"
      ]
     },
     "execution_count": 18,
     "metadata": {},
     "output_type": "execute_result"
    }
   ],
   "source": [
    "# On peut sélectionner la cellule d'un array via la formule \n",
    "data[0,0] # pour sélectionne la ligne 1, colonne 1\n",
    "\n",
    "# On peut séledctionner toute une ligne ou colonne avec \" : \"\n",
    "data[:,2] # sélectionnera toutes les cases de la troisieme colonne"
   ]
  },
  {
   "cell_type": "code",
   "execution_count": 19,
   "metadata": {},
   "outputs": [
    {
     "data": {
      "text/plain": [
       "array([[1200,  400,   22],\n",
       "       [2400,  400,   28],\n",
       "       [3000,  800,   25]])"
      ]
     },
     "execution_count": 19,
     "metadata": {},
     "output_type": "execute_result"
    }
   ],
   "source": [
    "# On peut également faire des sélections par condition :\n",
    "data[data[:,2] < 30]"
   ]
  },
  {
   "cell_type": "code",
   "execution_count": 21,
   "metadata": {},
   "outputs": [
    {
     "name": "stdout",
     "output_type": "stream",
     "text": [
      "[ True False  True False  True]\n"
     ]
    }
   ],
   "source": [
    "data[:,2][data[:,2] < 30]"
   ]
  },
  {
   "cell_type": "code",
   "execution_count": 22,
   "metadata": {},
   "outputs": [
    {
     "data": {
      "text/plain": [
       "array([[1200,  400,   22],\n",
       "       [1700,  500,   33],\n",
       "       [2400,  400,   28],\n",
       "       [2500,  600,   38],\n",
       "       [3000,  800,   25],\n",
       "       [1200,  200,   20]])"
      ]
     },
     "execution_count": 22,
     "metadata": {},
     "output_type": "execute_result"
    }
   ],
   "source": [
    "# Pour ajouter une ligne à un array, on peut utiliser la méthode vstack :\n",
    "\n",
    "fred = [1200, 200, 20]\n",
    "np.vstack((data, fred))"
   ]
  },
  {
   "attachments": {},
   "cell_type": "markdown",
   "metadata": {},
   "source": [
    "**Exercice \"Transformez vos données en tableau\"**\n",
    "\n",
    "https://colab.research.google.com/github/OpenClassrooms-Student-Center/fr-4452741-decouvrez-les-librairies-python-pour-la-data-science/blob/main/notebooks/P1/P1C4%20-%20Transformez%20vos%20donn%C3%A9es%20en%20tableaux.ipynb\n",
    "\n",
    "**Correction**\n",
    "\n",
    "https://colab.research.google.com/github/OpenClassrooms-Student-Center/fr-4452741-decouvrez-les-librairies-python-pour-la-data-science/blob/main/notebooks/P1/P1C4%20-%20Transformez%20vos%20donn%C3%A9es%20en%20tableaux%20-%20correction.ipynb"
   ]
  },
  {
   "cell_type": "code",
   "execution_count": 29,
   "metadata": {},
   "outputs": [
    {
     "name": "stdout",
     "output_type": "stream",
     "text": [
      "[9.  9.5]\n"
     ]
    },
    {
     "data": {
      "text/plain": [
       "array([ 6.,  8., 10.])"
      ]
     },
     "execution_count": 29,
     "metadata": {},
     "output_type": "execute_result"
    }
   ],
   "source": [
    "a = np.linspace(5, 10, 11)\n",
    "print(a[-3:-1])\n",
    "\n",
    "a[a % 2 == 0]"
   ]
  },
  {
   "cell_type": "code",
   "execution_count": 30,
   "metadata": {},
   "outputs": [
    {
     "data": {
      "text/plain": [
       "(3, 2, 2)"
      ]
     },
     "execution_count": 30,
     "metadata": {},
     "output_type": "execute_result"
    }
   ],
   "source": [
    "b = np.array([[[1, 2],[4, 5]],\n",
    "        [[6, 7],[8, 9]],\n",
    "        [[10, 11],[12, 13]]])\n",
    "b.shape"
   ]
  },
  {
   "cell_type": "code",
   "execution_count": null,
   "metadata": {},
   "outputs": [],
   "source": []
  }
 ],
 "metadata": {
  "kernelspec": {
   "display_name": "base",
   "language": "python",
   "name": "python3"
  },
  "language_info": {
   "codemirror_mode": {
    "name": "ipython",
    "version": 3
   },
   "file_extension": ".py",
   "mimetype": "text/x-python",
   "name": "python",
   "nbconvert_exporter": "python",
   "pygments_lexer": "ipython3",
   "version": "3.11.3"
  },
  "orig_nbformat": 4
 },
 "nbformat": 4,
 "nbformat_minor": 2
}
