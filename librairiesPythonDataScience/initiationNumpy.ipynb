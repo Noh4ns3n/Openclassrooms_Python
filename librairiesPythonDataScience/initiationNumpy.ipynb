{
 "cells": [
  {
   "attachments": {},
   "cell_type": "markdown",
   "metadata": {},
   "source": [
    "**Créez vos premiers arrays avec NumPy**\n"
   ]
  },
  {
   "cell_type": "code",
   "execution_count": 3,
   "metadata": {},
   "outputs": [
    {
     "data": {
      "text/plain": [
       "2134.4"
      ]
     },
     "execution_count": 3,
     "metadata": {},
     "output_type": "execute_result"
    }
   ],
   "source": [
    "import numpy as np\n",
    "\n",
    "revenus = [1800, 1500, 2200, 3000, 2172]\n",
    "\n",
    "np.mean(revenus)\n"
   ]
  },
  {
   "attachments": {},
   "cell_type": "markdown",
   "metadata": {},
   "source": [
    "Un des avantages majeurs de Numpy est la notion d'Array qui vient avec. Ils sont semblables aux listes classiques de Python mais permettent des opérations bien plus rapides (jusqu'à 30 fois à mesure que la taille de l'Array augmente). \n",
    "\n",
    "Contrairement aux listes Python, on ne peut stocker qu'un seul type de variable dans un Array."
   ]
  },
  {
   "cell_type": "code",
   "execution_count": 6,
   "metadata": {},
   "outputs": [
    {
     "name": "stdout",
     "output_type": "stream",
     "text": [
      "La valeur absolue:  [2 1 1 2]\n",
      "Exponentielle:  [0.13533528 0.36787944 2.71828183 7.3890561 ]\n",
      "Logarithme:  [0.69314718 0.         0.         0.69314718]\n"
     ]
    }
   ],
   "source": [
    "x = [-2, -1, 1, 2]\n",
    "print(\"La valeur absolue: \", np.abs(x))\n",
    "print(\"Exponentielle: \", np.exp(x))\n",
    "print(\"Logarithme: \", np.log(np.abs(x)))"
   ]
  },
  {
   "attachments": {},
   "cell_type": "markdown",
   "metadata": {},
   "source": [
    "Pour créer un array NumPy, le plus simple est de commencer par une liste Python classique (telle que la liste \"revenus\" ci-dessus). \n",
    "\n",
    "Si la liste Python contient des variables de plusieurs types, NumPy s'efforcera de les convertir dans le type le plus général au moment de créer l'Array. \n",
    "\n",
    "Par exemple si une liste contient des int et des float, NumPy les convertira toutes en float."
   ]
  },
  {
   "cell_type": "code",
   "execution_count": 7,
   "metadata": {},
   "outputs": [],
   "source": [
    "revenus = [1800, 1500, 2200, 3000, 2172]\n",
    "\n",
    "revenus_array = np.array(revenus) "
   ]
  },
  {
   "attachments": {},
   "cell_type": "markdown",
   "metadata": {},
   "source": [
    "Numpy permet également de créer des arrays selon différents patterns :"
   ]
  },
  {
   "cell_type": "code",
   "execution_count": null,
   "metadata": {},
   "outputs": [],
   "source": [
    "np.zeros(n) #permet de créer un array rempli de 0, de n éléments ;\n",
    "np.ones(n) #similaire en tous points à la fonction présentée ci-dessus, à la différence que l’array sera rempli cette fois-ci de 1 ;\n",
    "np.arange(i, j, p)  #permet de créer un array rempli avec une séquence linéaire, qui ira de  i  à  j, par pas de  p  ;\n",
    "np.linspace(i, j, n) #permet de créer un array de  n  valeurs espacées uniformément entre  i  et  j."
   ]
  },
  {
   "cell_type": "code",
   "execution_count": 8,
   "metadata": {},
   "outputs": [
    {
     "data": {
      "text/plain": [
       "dtype('int32')"
      ]
     },
     "execution_count": 8,
     "metadata": {},
     "output_type": "execute_result"
    }
   ],
   "source": [
    "revenus_array.dtype #permet de connaître le type (int, float, etc.) et la précision (8, 16, 32bits etc.) du type de variables dans l'array"
   ]
  },
  {
   "attachments": {},
   "cell_type": "markdown",
   "metadata": {},
   "source": [
    "La manipulation des array est similaire aux listes classiques :"
   ]
  },
  {
   "cell_type": "code",
   "execution_count": null,
   "metadata": {},
   "outputs": [],
   "source": [
    "revenus_array[4] # pour accéder au 5ème élement\n",
    "revenus_array[-1] # pour accéder au dernier élément\n",
    "revenus_array[1] = 1900 # On peut aussi modifier les valeurs"
   ]
  }
 ],
 "metadata": {
  "kernelspec": {
   "display_name": "base",
   "language": "python",
   "name": "python3"
  },
  "language_info": {
   "codemirror_mode": {
    "name": "ipython",
    "version": 3
   },
   "file_extension": ".py",
   "mimetype": "text/x-python",
   "name": "python",
   "nbconvert_exporter": "python",
   "pygments_lexer": "ipython3",
   "version": "3.10.9"
  },
  "orig_nbformat": 4
 },
 "nbformat": 4,
 "nbformat_minor": 2
}
